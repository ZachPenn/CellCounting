{
 "cells": [
  {
   "cell_type": "markdown",
   "metadata": {},
   "source": [
    "# Instructions\n",
    "The following code was designed in order to create binary region of interest masks in order to subsequently restrict cell counts to a particular region/regions of an image.  The code is intended to be used an iterative manner, where each image is cycled through and ROIs are drawn using point and click tools.  For each ROI drawn, a separate binary tif image wil be created for each ROI.\n",
    "\n",
    "\n",
    "### Folder Structure\n",
    "\n",
    "The files for single channel tif images should all be located in a single folder\n",
    "\n",
    "\n",
    "### Requirements\n",
    "See README for dependencies and conda environment install instructions"
   ]
  },
  {
   "cell_type": "markdown",
   "metadata": {},
   "source": [
    "# 1. Import Necessary Packages"
   ]
  },
  {
   "cell_type": "markdown",
   "metadata": {},
   "source": [
    "The following code loads necessary packages and need not be modified by the user"
   ]
  },
  {
   "cell_type": "code",
   "execution_count": null,
   "metadata": {},
   "outputs": [],
   "source": [
    "%load_ext autoreload\n",
    "%autoreload 2\n",
    "import os\n",
    "import fnmatch\n",
    "import CellCounter_Functions as cc"
   ]
  },
  {
   "cell_type": "markdown",
   "metadata": {},
   "source": [
    "# 2. Define directory of folder containing files to base ROI upon, as well as the names of the region of interest"
   ]
  },
  {
   "cell_type": "markdown",
   "metadata": {},
   "source": [
    "Below the directory path containing the files to draw ROIs on should be specified. Additionally, the names of the regions to be drawn on each image should be place in a list.  Each region should be written in quotes separated by commans (e.g. `region_names = ['region1','region2','region3']`)\n",
    "\n",
    "***Windows Users:*** Plase an r in front of directory path (e.g. `r\"/Users/me/myimages\"`)"
   ]
  },
  {
   "cell_type": "code",
   "execution_count": null,
   "metadata": {},
   "outputs": [],
   "source": [
    "directory = \"/Users/me/Desktop/myimages\"\n",
    "region_names = ['BLA','BMA','CEA']\n",
    "\n",
    "file = 0 #file in folder to start with. 0 based index in list.\n",
    "fnames = fnmatch.filter(sorted(os.listdir(directory)), '*.tif') "
   ]
  },
  {
   "cell_type": "markdown",
   "metadata": {},
   "source": [
    "# 3. Draw Regions of Interest\n",
    "After running cell below, double click on image to begin drawing ROI.  Single click to add vertex.  Double click again to finish individual ROI.  ROI's must be drawn in order specified. After drawing all ROIs for individual image, move to the next step to create masks.  Subsequently return to this step to load the next image and draw ROIs again."
   ]
  },
  {
   "cell_type": "code",
   "execution_count": null,
   "metadata": {},
   "outputs": [],
   "source": [
    "%%output size = 35\n",
    "\n",
    "ROI_plot, ROI_stream, img_shape = cc.ROI_plot(directory, fnames,file, region_names)\n",
    "ROI_plot"
   ]
  },
  {
   "cell_type": "markdown",
   "metadata": {},
   "source": [
    "# 4. Save Regions of Interest and Increment File"
   ]
  },
  {
   "cell_type": "code",
   "execution_count": null,
   "metadata": {},
   "outputs": [],
   "source": [
    "ROI_masks = cc.ROI_mkMasks(directory, fnames, file, region_names, ROI_stream, img_shape)\n",
    "file+=1"
   ]
  },
  {
   "cell_type": "markdown",
   "metadata": {},
   "source": [
    "# 5.  Return to Step 3 to draw ROIs for next image"
   ]
  }
 ],
 "metadata": {
  "kernelspec": {
   "display_name": "Python 3",
   "language": "python",
   "name": "python3"
  },
  "language_info": {
   "codemirror_mode": {
    "name": "ipython",
    "version": 3
   },
   "file_extension": ".py",
   "mimetype": "text/x-python",
   "name": "python",
   "nbconvert_exporter": "python",
   "pygments_lexer": "ipython3",
   "version": "3.6.7"
  }
 },
 "nbformat": 4,
 "nbformat_minor": 2
}
