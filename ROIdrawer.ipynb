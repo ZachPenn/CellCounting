{
 "cells": [
  {
   "cell_type": "markdown",
   "metadata": {},
   "source": [
    "# Instructions\n",
    "The following code was designed in order to create binary region of interest masks in order to subsequently restrict cell counts to a particular region/regions.  The code is intended to be used an iterative manner, where each image is cycled through and ROIs are drawn using point and click tools.  For each ROI drawn, a separate binary tif image wil be created for each ROI.\n",
    "\n",
    "\n",
    "### Folder Structure\n",
    "\n",
    "The files for single channel tif images should all be located in a single folder\n",
    "\n",
    "\n",
    "### Requirements\n",
    "See README for dependencies and conda environment install instructions"
   ]
  },
  {
   "cell_type": "markdown",
   "metadata": {},
   "source": [
    "## Import Necessary Packages"
   ]
  },
  {
   "cell_type": "code",
   "execution_count": null,
   "metadata": {},
   "outputs": [],
   "source": [
    "%load_ext autoreload\n",
    "%autoreload 2\n",
    "import os\n",
    "import fnmatch\n",
    "import CellCounter_Functions as cc"
   ]
  },
  {
   "cell_type": "markdown",
   "metadata": {},
   "source": [
    "## Define directory of folder containing files to base ROI upon, as well as the names of the region of interest"
   ]
  },
  {
   "cell_type": "code",
   "execution_count": null,
   "metadata": {},
   "outputs": [],
   "source": [
    "directory = \"/Users/zachpennington/Desktop/Images/\"\n",
    "region_names = ['left','right']\n",
    "file = 0 #files gone through in order.  0 based index in list.\n",
    "\n",
    "fnames = fnmatch.filter(sorted(os.listdir(directory)), '*.tif') "
   ]
  },
  {
   "cell_type": "markdown",
   "metadata": {},
   "source": [
    "## Draw Regions of Interest"
   ]
  },
  {
   "cell_type": "code",
   "execution_count": null,
   "metadata": {},
   "outputs": [],
   "source": [
    "ROI_plot, ROI_stream, img_shape = cc.ROI_plot(directory, fnames,file, region_names)\n",
    "ROI_plot"
   ]
  },
  {
   "cell_type": "markdown",
   "metadata": {},
   "source": [
    "## Save Regions of Interest and Increment File"
   ]
  },
  {
   "cell_type": "code",
   "execution_count": null,
   "metadata": {},
   "outputs": [],
   "source": [
    "ROI_masks = cc.ROI_mkMasks(directory, fnames, file, region_names, ROI_stream, img_shape)\n",
    "file+=1"
   ]
  }
 ],
 "metadata": {
  "kernelspec": {
   "display_name": "Python 3",
   "language": "python",
   "name": "python3"
  },
  "language_info": {
   "codemirror_mode": {
    "name": "ipython",
    "version": 3
   },
   "file_extension": ".py",
   "mimetype": "text/x-python",
   "name": "python",
   "nbconvert_exporter": "python",
   "pygments_lexer": "ipython3",
   "version": "3.6.7"
  }
 },
 "nbformat": 4,
 "nbformat_minor": 2
}
