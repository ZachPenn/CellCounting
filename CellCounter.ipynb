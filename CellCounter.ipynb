{
 "cells": [
  {
   "cell_type": "markdown",
   "metadata": {},
   "source": [
    "# Instructions\n",
    "The following code was designed in order to calculate the number of cells within an image or set of images.\n",
    "\n",
    "### A few pertinent features of the code:\n",
    "This code calculates the number of counted cells on up to two channels, as well as overlapping cells across channels.\n",
    "In addition to cell count, the locations of counted cells can be saved.\n",
    "Lastly, a region of interest based upon a user-made mask can be specified and cell counting can be restricted to this region of interest.  The size of the region of interest in pixels is returned. \n",
    "\n",
    "### Folder Structure\n",
    "\n",
    "For this code to work files should be organized in a specific manner.\n",
    "Directory_Main (the path of which is to be defined by the user... actual directory name can be whatever you want) should contain the subfolders \"Ch1\",\"Ch2\",and \"ROI\" (these names matter).\n",
    "If you are not using ROIs, this folder can be excluded.\n",
    "Similarly, if only one channel is being examined, Ch1/Ch2 can be exluded.\n",
    "Ch1 and Ch2 folders should contain single-channel .tif images with files of the same name, though some suffix identifying the channel (e.g. \"_Ch1\") is fine.  This is required in order for images for each channel of a multichannel image to be matched.\n",
    "ROI should contain .tif images with ROI masks, described below.  These should be named similarly to files in Ch1 and Ch2.\n",
    "Example filenames under Ch1, Ch2, and ROI: \"Mouse1_Image1_Ch1.tif\",\"Mouse1_Image1_Ch2.tif\",\"\"Mouse1_Image1_ROI.tif\"\n",
    "\n",
    "### Making ROIs\n",
    "Regions of interest can be drawn using ROIdrawer.ipynb.  Alternatively, one can make similar binary masks using ImageJ. In ImageJ:\n",
    "#1 - Open the image in ImageJ\n",
    "#2 - Use your preferred selection tool (I like freehand selection tool) to outline the region of interest\n",
    "#3 - Go to edit > selection > create mask\n",
    "#4 - Save the mask as .tif file\n",
    "\n",
    "### Requirements\n",
    "See README for dependencies and conda environment install instructions\n",
    "\n",
    "### What type of cells can this count?\n",
    "Any semi-circular cell that is more or less filled by the fluorescent label will be cable of being counted.  If the cells are only visible by their perimeter than this code as is may not work. In this case, a process should be applied to either a) fill the internal component of the cell after thresholding or b) use smoothing or morphological opening to increase the internal of the cell. Although watershed can separate cells to some extent, a large degree ov overlap is unable to be overcome.\n",
    "\n",
    "## Setting parameters:\n",
    "All parameters required to be set by the user is set in the first cell of code.  \n",
    "1 - Cell Diameter:  This is the average cell diameter in pixel units.  Can be obtained easily with ImageJ measurement tool.\n",
    "2 - Threshold:  This is to be obtained using the optimization procedure or by setting by eye (not advised).\n",
    "3 - Paricle Minimum: After thresholding this serves to erase excessively small points.  Proportion of average cell size permitted.  Average cell size is assumed to be square of diamater for rough approximation\n",
    "4 - Use ROI:  Are you using an ROI or analyzing the entire image?\n",
    "5- Use Watershed: Watershed procedure attempts to separate adjoining cells. \n"
   ]
  },
  {
   "cell_type": "markdown",
   "metadata": {},
   "source": [
    "# 1. Load Necessary Packages\n",
    "The following code loads necessary packages and need not be changed by the user"
   ]
  },
  {
   "cell_type": "code",
   "execution_count": null,
   "metadata": {},
   "outputs": [],
   "source": [
    "%load_ext autoreload\n",
    "%autoreload 2\n",
    "import pylab \n",
    "import os\n",
    "import fnmatch\n",
    "import cv2\n",
    "import numpy as np\n",
    "import mahotas as mh \n",
    "import pandas as pd\n",
    "import holoviews as hv\n",
    "import CellCounter_Functions as cc"
   ]
  },
  {
   "cell_type": "markdown",
   "metadata": {},
   "source": [
    "# 2. User Specifies Parameters and Options for Running\n",
    "Below the user specifies various parameters relevant to analysis.  You can safely ignore settings parameters that do not pertain to what you are doing; however, they do require some value.\n",
    "\n",
    "***Windows Users:*** Place an 'r' in front directory path (e.g. r\"zp\\Videos\") to avoid mishandling of forward slashes."
   ]
  },
  {
   "cell_type": "code",
   "execution_count": null,
   "metadata": {},
   "outputs": [],
   "source": [
    "#Define directory of working environment (Directory.Main)\n",
    "dirinfo = {\n",
    "    'main' : \"/Users/zachpennington/Desktop/images/\"\n",
    "}\n",
    "\n",
    "#Set Parameters\n",
    "params = {\n",
    "    'ch1_diam' : 19 ,#Average Cell Diameter in pixel units.  Must be integer value.  \n",
    "    'ch1_thresh' : 510 ,#Set threshold to integer value based upon CellCounter_Optimization.ipynb\n",
    "    'ch2_diam' : 10,#Average Cell Diameter in pixel units.  Must be integer value.  \n",
    "    'ch2_thresh' : 1060 ,#Set threshold to integer value based upon CellCounter_Optimization.ipynb\n",
    "    'particle_min' : 0.2 ,#After thresholding this serves to erase excessively small points.  Proportion of average cell size permitted.  Average cell size is assumed to be square of diamater for rough approximation.  0.2 has worked well for me\n",
    "    'overlap' : .5 #When measuring overlap of two channels, this is the minimum amount of overlap permitted, as a proportion of average cell size for channel with smaller diameter cells.  Average cell size is assumed to be square of diamater for rough approximation.\n",
    "}\n",
    "\n",
    "dirinfo = cc.getdirinfo(dirinfo)\n",
    "dirinfo"
   ]
  },
  {
   "cell_type": "markdown",
   "metadata": {},
   "source": [
    "# 3. Display Example Process for One Channel (Optional)\n",
    "The code helps display the processing results for a single image.  The original image, the background subtracted and smoothed image, the thresholded image, and the final cell locations are displayed.   By default displays results from first image of first channel.  Primarily used for troubleshooting.  Can't view ROI this way\n",
    "\n",
    "Set channel equal to \"Ch1\" or \"Ch2\".  Additionally, file number can be set based upon alphabetical ordering of files (0 is first file, etc)\n",
    "\n",
    "To toggle whether an ROI or Watershed are to be used, set to True or False"
   ]
  },
  {
   "cell_type": "code",
   "execution_count": null,
   "metadata": {},
   "outputs": [],
   "source": [
    "%%output size=120\n",
    "\n",
    "#Specify Image to Look at Below\n",
    "Channel = \"Ch1\" #Specify Ch1 or Ch2\n",
    "file = 0 #Specify index in folder.  0 by default\n",
    "\n",
    "#call function to count cells\n",
    "count_out = cc.Count(\n",
    "    file,Channel,params,dirinfo,\n",
    "    UseROI=True,\n",
    "    UseWatershed=True\n",
    ")\n",
    "display = cc.display_count(count_out)\n",
    "display.cols(2)"
   ]
  },
  {
   "cell_type": "markdown",
   "metadata": {},
   "source": [
    "# 4. Display Example Process of Overlap (Optional) \n",
    "The code helps display the overlap results for a single set of images (where each image is a different channel).  The original images, the final cell locations, and the overlapping cells are displayed."
   ]
  },
  {
   "cell_type": "code",
   "execution_count": null,
   "metadata": {},
   "outputs": [],
   "source": [
    "%%output size=100\n",
    "#Specify Image to Look at Below\n",
    "file = 0 #Specify index in folder.  0 by default\n",
    "\n",
    "\n",
    "#call function to count cells\n",
    "count_out1 = cc.Count(\n",
    "    file,\"Ch1\",params,dirinfo,\n",
    "    UseROI=True,\n",
    "    UseWatershed=True\n",
    ")\n",
    "count_out2 = cc.Count(\n",
    "    file,\"Ch2\",params,dirinfo,\n",
    "    UseROI=True,\n",
    "    UseWatershed=True\n",
    ")\n",
    "merge_out = cc.Merge(count_out1['cells'],count_out2['cells'],params)\n",
    "display = cc.display_merge(count_out1,count_out2,merge_out)\n",
    "display.cols(2)"
   ]
  },
  {
   "cell_type": "markdown",
   "metadata": {},
   "source": [
    "# 5. Count Channel 1\n",
    "Count all cells for channel 1 images and save to disk"
   ]
  },
  {
   "cell_type": "code",
   "execution_count": null,
   "metadata": {},
   "outputs": [],
   "source": [
    "Ch1_Counts = cc.Count_folder(\n",
    "    dirinfo,\n",
    "    params,\n",
    "    Channel=\"Ch1\",\n",
    "    UseROI=True,\n",
    "    UseWatershed=True,\n",
    "    SaveIntensities=True\n",
    ")\n",
    "Ch1_Counts.to_csv(os.path.join(os.path.normpath(dirinfo['output']), \"Ch1_Counts.csv\"))\n",
    "Ch1_Counts"
   ]
  },
  {
   "cell_type": "markdown",
   "metadata": {},
   "source": [
    "# 6. Count Channel 2\n",
    "Count all cells for channel 2 images and save to disk"
   ]
  },
  {
   "cell_type": "code",
   "execution_count": null,
   "metadata": {},
   "outputs": [],
   "source": [
    "Ch2_Counts = cc.Count_folder(\n",
    "    dirinfo,\n",
    "    params,\n",
    "    Channel=\"Ch2\",\n",
    "    UseROI=True,\n",
    "    UseWatershed=True,\n",
    "    SaveIntensities=True\n",
    ")\n",
    "Ch2_Counts.to_csv(os.path.join(os.path.normpath(dirinfo['output']), \"Ch2_Counts.csv\"))\n",
    "Ch2_Counts"
   ]
  },
  {
   "cell_type": "markdown",
   "metadata": {},
   "source": [
    "# 7. Count Overlapping Cells from Channels 1 and 2\n",
    "Count cells overlapping in Channel 1 and Channel 2 and save results to disk\n",
    "**Note:** Channels 1 and 2 must be counted before doing this\n",
    "Count overlapping cells for channel 1 and channel 2"
   ]
  },
  {
   "cell_type": "code",
   "execution_count": null,
   "metadata": {},
   "outputs": [],
   "source": [
    "Merge_Counts = cc.Merge_folder(dirinfo,params)\n",
    "Merge_Counts.to_csv(os.path.join(os.path.normpath(dirinfo['output']), \"Merge_Counts.csv\"))\n",
    "Merge_Counts"
   ]
  },
  {
   "cell_type": "markdown",
   "metadata": {},
   "source": [
    "# 8. Create files with all cell info\n",
    "\n",
    "The following will create csvs containing information for each counted cell (size and intensity) per channel and be saved to Ch1_CellInfo.csv and Ch2_CellInfo.csv.  Additionally, it will create a file (Merge_CellInfo.csv), defining the mapping between channels."
   ]
  },
  {
   "cell_type": "code",
   "execution_count": null,
   "metadata": {},
   "outputs": [],
   "source": [
    "cc.extract_cellinfo(dirinfo)"
   ]
  },
  {
   "cell_type": "code",
   "execution_count": null,
   "metadata": {},
   "outputs": [],
   "source": [
    "idx = np.asarray([not ''.join([x.split('c1_ORG.tif')[0], 'c3_ORG_mask_CEA.tif']) in dirinfo['roi_fnames'] for x in dirinfo['ch1_fnames']])\n",
    "np.asarray(dirinfo['ch1_fnames'])[idx==True]"
   ]
  }
 ],
 "metadata": {
  "kernelspec": {
   "display_name": "Python 3",
   "language": "python",
   "name": "python3"
  },
  "language_info": {
   "codemirror_mode": {
    "name": "ipython",
    "version": 3
   },
   "file_extension": ".py",
   "mimetype": "text/x-python",
   "name": "python",
   "nbconvert_exporter": "python",
   "pygments_lexer": "ipython3",
   "version": "3.6.13"
  }
 },
 "nbformat": 4,
 "nbformat_minor": 2
}
