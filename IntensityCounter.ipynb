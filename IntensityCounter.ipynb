{
 "cells": [
  {
   "cell_type": "markdown",
   "metadata": {},
   "source": [
    "# Instructions\n",
    "The following code was designed in order to calculate the fluorescent intensity for either an entire image or a region of interest (ROI) within an image based upon a user-made mask.  When an ROI is used, the size of the ROI in pixels is returned. When an ROI is not used, ROI size is set to size of image.\n",
    "\n",
    "\n",
    "### Folder Structure\n",
    "\n",
    "For this code to work files should be organized in a specific manner.\n",
    "Directory_Main (the path of which is to be defined by the user... actual directory name can be whatever you want) should contain the subfolders \"ROI\", and \"SavedOutput\" (these names matter).  Additionally, there should be a folder with the images to measured.  The name of this folder can be specified by user\n",
    "If you are not using ROIs, this folder can be excluded.\n",
    "Image folder should contain .tif images. ROI should contain .tif images with ROI masks, described below.  These should be named similarly to files in image folder with the exception of some suffix.\n",
    "Example filenames under image folder and ROI: \"Mouse1_Image1_Ch1.tif\",\"\"Mouse1_Image1_ROI.tif\"\n",
    "\n",
    "### Making ROIs\n",
    "Regions of interest are best drawn using ImajeJ.  Binary masks are created such that the region of interest pixel values = 255, whereas other values are equal to 0\n",
    "#1 - Open the image in ImageJ\n",
    "#2 - Use your preferred selection tool (I like freehand selection tool) to outline the region of interest\n",
    "#3 - Go to edit > selection > create mask\n",
    "#4 - Save the mask as .tif file\n",
    "\n",
    "### Requirements\n",
    "The following will need to be installed in your Conda environment:\n",
    "\n",
    "1 - python (3.6.5)\n",
    "\n",
    "2 - jupyter\n",
    "\n",
    "3 - imread\n",
    "\n",
    "4 - mahotas(1.4.4)\n",
    "\n",
    "5 - numpy(1.14.3)\n",
    "\n",
    "6 - pandas(0.23.0)\n",
    "\n",
    "7 - matplotlib(2.2.2). \n",
    "\n",
    "The following commands can be executed in your terminal to create the environment: \n",
    "\n",
    "conda config --add channels conda-forge\n",
    "\n",
    "conda create -n EnvironmentName python=3.6.5 mahotas=1.4.4 pandas=0.23.0 matplotlib=2.2.2 jupyter imread\n",
    "\n",
    "Different versions of these packages have not been tested.  Single channel .tif images are required (some image acquisition software exports single channel images with more than >2 dimensions.  If this is the case, images must first be converted to 2 dimensional space).  Images that are not already 8-bit are converted to 8 bit.  However, these images are not necessarily on a scale from 0-255.  It is therefore advised that all images are set to 8 bit before running this. \n"
   ]
  },
  {
   "cell_type": "markdown",
   "metadata": {},
   "source": [
    "# Specify Parameters and Options for Running\n",
    "### This should be the only part of the code that is required to be changed"
   ]
  },
  {
   "cell_type": "code",
   "execution_count": null,
   "metadata": {},
   "outputs": [],
   "source": [
    "# Define directory of working environment (Directory.Main)\n",
    "Directory_Main = \"/Users/zachpennington/Documents/ZachsDocuments/Sinai.PostDoc/Projects/Linking/RetrospectiveLinking/RL3_HM4Da/RL3_Images\"\n",
    "Image_Folder = \"Ch1\" #name of folder within Directory_Main that contains images to be measured\n",
    "\n",
    "#Options (set to 0 or 1)\n",
    "UseROI = 1 #Only count cells within a region of interest?"
   ]
  },
  {
   "cell_type": "markdown",
   "metadata": {},
   "source": [
    "# Load Necessary Packages"
   ]
  },
  {
   "cell_type": "code",
   "execution_count": null,
   "metadata": {},
   "outputs": [],
   "source": [
    "#Note that this code was written in python 3.6.5\n",
    "import pylab \n",
    "import os\n",
    "import fnmatch\n",
    "import imread\n",
    "import numpy as np\n",
    "import mahotas as mh \n",
    "import pandas as pd\n",
    "import matplotlib as mpl\n",
    "import matplotlib.pyplot as plt"
   ]
  },
  {
   "cell_type": "markdown",
   "metadata": {},
   "source": [
    "# Get Directory Information"
   ]
  },
  {
   "cell_type": "code",
   "execution_count": null,
   "metadata": {},
   "outputs": [],
   "source": [
    "#Define existing subdirectories\n",
    "Directory_Images = Directory_Main + \"/\" + Image_Folder\n",
    "Directory_ROI = Directory_Main + \"/\" + \"ROI\"\n",
    "Directory_Output = Directory_Main + \"/\" + \"SavedOutput\"\n",
    "\n",
    "\n",
    "#Get filenames and create output subdirectories based upon usage\n",
    "FileNames_Images = sorted(os.listdir(Directory_Images))\n",
    "FileNames_Images = fnmatch.filter(FileNames_Images, '*.tif') #restrict files to .tif images\n",
    "\n",
    "#Create output directory if it is not in existence already\n",
    "try:\n",
    "    os.mkdir(Directory_Output)\n",
    "except FileExistsError: \n",
    "    pass\n",
    "\n",
    "#Get ROI informatiohn\n",
    "if UseROI == 1:\n",
    "    FileNames_ROI = sorted(os.listdir(Directory_ROI))\n",
    "    FileNames_ROI = fnmatch.filter(FileNames_ROI, '*.tif') #restrict files to .tif images"
   ]
  },
  {
   "cell_type": "markdown",
   "metadata": {},
   "source": [
    "# Measure Intensity"
   ]
  },
  {
   "cell_type": "code",
   "execution_count": null,
   "metadata": {},
   "outputs": [],
   "source": [
    "#Initialize arrays to store data in\n",
    "Intensity = []\n",
    "ROI_SIZE = []\n",
    "    \n",
    "#Loop through images and count cells\n",
    "for x, File in enumerate(FileNames_Images):\n",
    "    \n",
    "    #Load Image\n",
    "    print(\"Processing: \" + File)\n",
    "    Image_Current_Gray = mh.imread((Directory_Images + \"/\" + File),as_grey=True) #Load File as greyscale image\n",
    "     \n",
    "    #Measure Intensity\n",
    "    if UseROI:\n",
    "        ROI_Current = mh.imread((Directory_ROI + \"/\" + FileNames_ROI[x]),as_grey=True) #Load File\n",
    "        Intensity.append(np.average(Image_Current_Gray[ROI_Current!=0])) #Calculate average intensity in specified ROI\n",
    "        ROI_SIZE.append(np.count_nonzero(ROI_Current))\n",
    "    else:\n",
    "        Intensity.append(np.average(Image_Current_Gray))\n",
    "        ROI_SIZE.append(Image_Current_Gray.size)    "
   ]
  },
  {
   "cell_type": "markdown",
   "metadata": {},
   "source": [
    "# Write Data to Disk"
   ]
  },
  {
   "cell_type": "code",
   "execution_count": null,
   "metadata": {},
   "outputs": [],
   "source": [
    "#Create pandas DataFrame and write to disk\n",
    "DataFrame = pd.DataFrame(\n",
    "    {'FileNames': FileNames_Images,\n",
    "     'UseROI' : np.ones(len(FileNames_Images))*UseROI,\n",
    "     'GrayIntensity': Intensity,\n",
    "     'ROIsize': ROI_SIZE\n",
    "    })\n",
    "DataFrame.to_csv(Directory_Output + \"/\" + Image_Folder + \"_Intensity.csv\")"
   ]
  }
 ],
 "metadata": {
  "kernelspec": {
   "display_name": "Python 3",
   "language": "python",
   "name": "python3"
  },
  "language_info": {
   "codemirror_mode": {
    "name": "ipython",
    "version": 3
   },
   "file_extension": ".py",
   "mimetype": "text/x-python",
   "name": "python",
   "nbconvert_exporter": "python",
   "pygments_lexer": "ipython3",
   "version": "3.6.5"
  }
 },
 "nbformat": 4,
 "nbformat_minor": 2
}
