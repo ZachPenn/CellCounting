{
 "cells": [
  {
   "cell_type": "markdown",
   "metadata": {},
   "source": [
    "# Instructions\n",
    "The following code was designed in order convert multi-channel tif/jpg images into single channel images (one/channel), preserving file type and bit depth.  Given a folder of multi-channel images, the following code will produce 3 folders, with each folder containing thge images for an individual channel."
   ]
  },
  {
   "cell_type": "markdown",
   "metadata": {},
   "source": [
    "# 1. Load Necessary Packages\n",
    "The following code loads necessary packages and need not be changed by the user"
   ]
  },
  {
   "cell_type": "code",
   "execution_count": null,
   "metadata": {},
   "outputs": [],
   "source": [
    "%load_ext autoreload\n",
    "%autoreload 2\n",
    "import CellCounter_Functions as cc"
   ]
  },
  {
   "cell_type": "markdown",
   "metadata": {},
   "source": [
    "# 2. Split Files!\n",
    "After defining the folder containing all of the images to be converted (`difinfo['main']`), the file extension (`difinfo['fext']`), and the names which you would like to name the 3 channels (`difinfo['cnames']`); running the cell will generate 3 folders, with each folder containing the images for an individual channel. \n",
    "\n",
    "***Windows Users:*** Plase an r in front of directory path (e.g. `r\"/Users/me/myimages\"`)"
   ]
  },
  {
   "cell_type": "code",
   "execution_count": null,
   "metadata": {},
   "outputs": [],
   "source": [
    "dirinfo = {\n",
    "    'main' : \"/Users/me/Desktop/Images/\", #specify directory containing image files \n",
    "    'fext' : 'tif', #specify file extension ('tif','jpg')\n",
    "    'cnames' : ['Ch1','Ch2','Ch3'], #names of channels\n",
    "}\n",
    "\n",
    "cc.split_channels(dirinfo)"
   ]
  }
 ],
 "metadata": {
  "kernelspec": {
   "display_name": "Python 3",
   "language": "python",
   "name": "python3"
  },
  "language_info": {
   "codemirror_mode": {
    "name": "ipython",
    "version": 3
   },
   "file_extension": ".py",
   "mimetype": "text/x-python",
   "name": "python",
   "nbconvert_exporter": "python",
   "pygments_lexer": "ipython3",
   "version": "3.6.7"
  }
 },
 "nbformat": 4,
 "nbformat_minor": 2
}
